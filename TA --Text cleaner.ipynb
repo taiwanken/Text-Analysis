{
 "cells": [
  {
   "cell_type": "code",
   "execution_count": 2,
   "id": "f9f314f9",
   "metadata": {},
   "outputs": [
    {
     "name": "stdout",
     "output_type": "stream",
     "text": [
      "done\n"
     ]
    }
   ],
   "source": [
    "import os\n",
    "import re\n",
    "import shutil\n",
    "\n",
    "def clean_and_copy_files(inout_dir, output_dir):\n",
    "    for folder_name in os.listdir(input_dir):\n",
    "        subfolder_path = os.path.join(input_dir, folder_name)\n",
    "        \n",
    "        if os.path.isdir(subfolder_path):\n",
    "            output_subfolder_path = os.path.join(output_dir, folder_name + \"Stripped\")\n",
    "            os.makedirs(output_subfolder_path, exist_ok=True)\n",
    "            \n",
    "            for filename in os.listdir(subfolder_path):\n",
    "                if filename.endswith(\".txt\"):\n",
    "                    file_path = os.path.join(subfolder_path, filename)\n",
    "                    output_file_path = os.path.join(output_subfolder_path, filename)\n",
    "                    \n",
    "                    with open(file_path, 'r', encoding='utf-8') as file:\n",
    "                        content = file.read()\n",
    "                        \n",
    "                    content = re.sub(r'\\d', '', content)  \n",
    "                    content = re.sub(r'\\n', ' ', content)\n",
    "                    content = re.sub(r'\\s+', ' ', content)\n",
    "                    content = re.sub(r'\\.{2,}', ' ', content)\n",
    "                    content = content.strip()\n",
    "                    \n",
    "                    with open(output_file_path, 'w', encoding='utf-8') as output_file:\n",
    "                        output_file.write(content)\n",
    "                        \n",
    "    print(\"done\")\n",
    "\n",
    "\n",
    "input_directory = # input directory\n",
    "output_directory = # output directory\n",
    "\n",
    "clean_and_copy_files(input_directory, output_directory)\n"
   ]
  },
  {
   "cell_type": "code",
   "execution_count": null,
   "id": "0443623c",
   "metadata": {},
   "outputs": [],
   "source": []
  }
 ],
 "metadata": {
  "kernelspec": {
   "display_name": "Python 3 (ipykernel)",
   "language": "python",
   "name": "python3"
  },
  "language_info": {
   "codemirror_mode": {
    "name": "ipython",
    "version": 3
   },
   "file_extension": ".py",
   "mimetype": "text/x-python",
   "name": "python",
   "nbconvert_exporter": "python",
   "pygments_lexer": "ipython3",
   "version": "3.11.5"
  }
 },
 "nbformat": 4,
 "nbformat_minor": 5
}
