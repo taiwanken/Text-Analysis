{
 "cells": [
  {
   "cell_type": "code",
   "execution_count": 2,
   "id": "12204a0a",
   "metadata": {},
   "outputs": [],
   "source": [
    "import os\n",
    "import pandas as pd\n",
    "from pelitk import lex\n",
    "\n",
    "base_directory = # speakers folder\n",
    "\n",
    "results = []\n",
    "\n",
    "for root, _, files in os.walk(base_directory):\n",
    "    for file in files:\n",
    "        if file.endswith(\".txt\"):\n",
    "            file_path = os.path.join(root, file)\n",
    "\n",
    "            # tokenise text from the file\n",
    "            with open(file_path, 'r', encoding='utf-8') as text_file:\n",
    "                text = text_file.read()\n",
    "                tokens = lex.re_tokenize(text)\n",
    "\n",
    "            # calculate AG value\n",
    "            guiraud_value = lex.adv_guiraud(tokens)\n",
    "\n",
    "            # store results\n",
    "            results.append({\n",
    "                'File': file_path,\n",
    "                'Guiraud Value': guiraud_value\n",
    "            })\n",
    "\n",
    "# dataframe for the results then export\n",
    "df = pd.DataFrame(results)\n",
    "output_file = \"AGS_by_speaker.xlsx\"\n",
    "df.to_excel(output_file, index=False)\n"
   ]
  },
  {
   "cell_type": "code",
   "execution_count": null,
   "id": "93bb27c9",
   "metadata": {},
   "outputs": [],
   "source": []
  }
 ],
 "metadata": {
  "kernelspec": {
   "display_name": "Python 3 (ipykernel)",
   "language": "python",
   "name": "python3"
  },
  "language_info": {
   "codemirror_mode": {
    "name": "ipython",
    "version": 3
   },
   "file_extension": ".py",
   "mimetype": "text/x-python",
   "name": "python",
   "nbconvert_exporter": "python",
   "pygments_lexer": "ipython3",
   "version": "3.11.5"
  }
 },
 "nbformat": 4,
 "nbformat_minor": 5
}
