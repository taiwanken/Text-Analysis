{
 "cells": [
  {
   "cell_type": "code",
   "execution_count": null,
   "id": "6efa9689",
   "metadata": {},
   "outputs": [],
   "source": [
    "import os\n",
    "import openpyxl\n",
    "import nltk\n",
    "from nltk.tokenize import sent_tokenize, word_tokenize\n",
    "nltk.download('punkt')\n",
    "\n",
    "# calculates the average sentence length in words\n",
    "def calculate_average_sentence_length(text):\n",
    "    sentences = sent_tokenize(text)\n",
    "    total_words = sum(len(word_tokenize(sentence)) for sentence in sentences)\n",
    "    return total_words / len(sentences) if len(sentences) > 0 else 0\n",
    "\n",
    "input_folder = # input\n",
    "\n",
    "# dcitionary to store the avg sentence length for each speaker\n",
    "speaker_average_lengths = {}\n",
    "\n",
    "# iterate through each txt file\n",
    "for speech_file in os.listdir(input_folder):\n",
    "    if speech_file.endswith(\".txt\"):\n",
    "        speaker_name = os.path.splitext(speech_file)[0] \n",
    "\n",
    "        # read the content of the consolidated speech file\n",
    "        with open(os.path.join(input_folder, speech_file), \"r\", encoding=\"utf-8\") as file:\n",
    "            content = file.read()\n",
    "\n",
    "        average_length = calculate_average_sentence_length(content)\n",
    "\n",
    "        speaker_average_lengths[speaker_name] = average_length\n",
    "\n",
    "workbook = openpyxl.Workbook()\n",
    "worksheet = workbook.active\n",
    "worksheet.title = \"Average Sentence Length\"\n",
    "\n",
    "worksheet.cell(row=1, column=1, value=\"Speaker\")\n",
    "worksheet.cell(row=1, column=2, value=\"Average Sentence Length (Words)\")\n",
    "\n",
    "row = 2\n",
    "for speaker, average_length in speaker_average_lengths.items():\n",
    "    worksheet.cell(row=row, column=1, value=speaker)\n",
    "    worksheet.cell(row=row, column=2, value=average_length)\n",
    "    row += 1\n",
    "\n",
    "excel_path = os.path.join(input_folder, \"AverageSentenceLength.xlsx\")\n",
    "workbook.save(excel_path)\n"
   ]
  }
 ],
 "metadata": {
  "kernelspec": {
   "display_name": "Python 3 (ipykernel)",
   "language": "python",
   "name": "python3"
  },
  "language_info": {
   "codemirror_mode": {
    "name": "ipython",
    "version": 3
   },
   "file_extension": ".py",
   "mimetype": "text/x-python",
   "name": "python",
   "nbconvert_exporter": "python",
   "pygments_lexer": "ipython3",
   "version": "3.11.5"
  }
 },
 "nbformat": 4,
 "nbformat_minor": 5
}
