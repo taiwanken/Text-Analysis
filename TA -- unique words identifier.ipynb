{
 "cells": [
  {
   "cell_type": "code",
   "execution_count": null,
   "id": "ea5ca6f6",
   "metadata": {},
   "outputs": [],
   "source": [
    "# this script identifies the unique words of each speaker's vocabulary by comparing their speech to a consolidated text of every other speaker\n",
    "\n",
    "import os\n",
    "\n",
    "input_folder = # input folder\n",
    "output_folder = # output folder\n",
    "\n",
    "os.makedirs(output_folder, exist_ok=True)\n",
    "\n",
    "# iterate through each txt file\n",
    "for speaker_file in os.listdir(input_folder):\n",
    "    if speaker_file.endswith(\".txt\"):\n",
    "        speaker_path = os.path.join(input_folder, speaker_file)\n",
    "\n",
    "        # initialise unique vocabulary for the current speaker\n",
    "        unique_vocabulary = set()\n",
    "\n",
    "        # interate through all text files to create consolidated text\n",
    "        for other_file in os.listdir(input_folder):\n",
    "            if other_file.endswith(\".txt\") and other_file != speaker_file:\n",
    "                other_path = os.path.join(input_folder, other_file)\n",
    "\n",
    "                # read the content of the other file and add words\n",
    "                with open(other_path, \"r\", encoding=\"utf-8\") as file:\n",
    "                    other_text = file.read()\n",
    "                unique_vocabulary.update(other_text.split())\n",
    "\n",
    "        # read the speaker's file\n",
    "        with open(speaker_path, \"r\", encoding=\"utf-8\") as file:\n",
    "            speaker_text = file.read()\n",
    "\n",
    "        # remove words in common\n",
    "        speaker_words = speaker_text.split()\n",
    "        unique_words = [word for word in speaker_words if word not in unique_vocabulary]\n",
    "\n",
    "        # create the unique vocabulary file\n",
    "        unique_file_path = os.path.join(output_folder, speaker_file)\n",
    "        with open(unique_file_path, \"w\", encoding=\"utf-8\") as file:\n",
    "            file.write(\" \".join(unique_words))\n"
   ]
  }
 ],
 "metadata": {
  "kernelspec": {
   "display_name": "Python 3 (ipykernel)",
   "language": "python",
   "name": "python3"
  },
  "language_info": {
   "codemirror_mode": {
    "name": "ipython",
    "version": 3
   },
   "file_extension": ".py",
   "mimetype": "text/x-python",
   "name": "python",
   "nbconvert_exporter": "python",
   "pygments_lexer": "ipython3",
   "version": "3.11.5"
  }
 },
 "nbformat": 4,
 "nbformat_minor": 5
}
