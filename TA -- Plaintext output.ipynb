{
 "cells": [
  {
   "cell_type": "code",
   "execution_count": 1,
   "id": "fd593bc5",
   "metadata": {},
   "outputs": [],
   "source": [
    "import fitz\n",
    "import os\n",
    "\n",
    "input_folder = #'...'\n",
    "output_folder = #'...'\n",
    "\n",
    "if not os.path.exists(output_folder):\n",
    "    os.makedirs(output_folder)\n",
    "\n",
    "for root, _, files in os.walk(input_folder):\n",
    "    for file in files:\n",
    "        if file.endswith('.pdf'):\n",
    "            pdf_path = os.path.join(root, file)\n",
    "            pdf_document = fitz.open(pdf_path)\n",
    "            \n",
    "            # check if all pages contain text data\n",
    "            fully_ocrd = all(page.get_text(\"text\") for page in pdf_document)\n",
    "            \n",
    "            if fully_ocrd:\n",
    "                # extract text\n",
    "                text = \"\"\n",
    "                for page in pdf_document:\n",
    "                    text += page.get_text(\"text\")\n",
    "                \n",
    "                # create a corresponding plaintext file\n",
    "                txt_filename = os.path.splitext(file)[0] + '.txt'\n",
    "                txt_path = os.path.join(output_folder, txt_filename)\n",
    "                \n",
    "                with open(txt_path, 'w', encoding='utf-8') as txt_file:\n",
    "                    txt_file.write(text)\n"
   ]
  },
  {
   "cell_type": "code",
   "execution_count": null,
   "id": "e539ceef",
   "metadata": {},
   "outputs": [],
   "source": []
  }
 ],
 "metadata": {
  "kernelspec": {
   "display_name": "Python 3 (ipykernel)",
   "language": "python",
   "name": "python3"
  },
  "language_info": {
   "codemirror_mode": {
    "name": "ipython",
    "version": 3
   },
   "file_extension": ".py",
   "mimetype": "text/x-python",
   "name": "python",
   "nbconvert_exporter": "python",
   "pygments_lexer": "ipython3",
   "version": "3.11.5"
  }
 },
 "nbformat": 4,
 "nbformat_minor": 5
}
