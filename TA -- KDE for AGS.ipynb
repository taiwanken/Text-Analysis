{
 "cells": [
  {
   "cell_type": "code",
   "execution_count": null,
   "id": "7ae8724c",
   "metadata": {},
   "outputs": [],
   "source": [
    "# this would become Fig 4 in the assignment\n",
    "\n",
    "import pandas as pd\n",
    "import matplotlib.pyplot as plt\n",
    "import seaborn as sns\n",
    "\n",
    "df1 = pd.read_excel(\" \", sheet_name='LKY') # put in AG scores in excel\n",
    "df2 = pd.read_excel(\" \", sheet_name='LHL')\n",
    "df3 = pd.read_excel(\" \", sheet_name='Remaining Cabinet')\n",
    "\n",
    "plt.figure(figsize=(10, 7))\n",
    "\n",
    "\n",
    "sns.kdeplot(df1['Score'], bw_adjust=0.5, label='Lee Kuan Yew', linestyle=\"--\", color='red')\n",
    "sns.kdeplot(df2['Score'], bw_adjust=0.5, label='Lee Hsien Loong', linestyle=\":\", color='orange')\n",
    "sns.kdeplot(df3['Score'], bw_adjust=0.5, label='Remaining Cabinet', color='green')\n",
    "\n",
    "plt.xlabel('Advanced Guiraud Scores')\n",
    "plt.ylabel('Density')\n",
    "plt.legend()\n",
    "\n",
    "plt.tight_layout()\n",
    "plt.show()\n"
   ]
  }
 ],
 "metadata": {
  "kernelspec": {
   "display_name": "Python 3 (ipykernel)",
   "language": "python",
   "name": "python3"
  },
  "language_info": {
   "codemirror_mode": {
    "name": "ipython",
    "version": 3
   },
   "file_extension": ".py",
   "mimetype": "text/x-python",
   "name": "python",
   "nbconvert_exporter": "python",
   "pygments_lexer": "ipython3",
   "version": "3.11.5"
  }
 },
 "nbformat": 4,
 "nbformat_minor": 5
}
