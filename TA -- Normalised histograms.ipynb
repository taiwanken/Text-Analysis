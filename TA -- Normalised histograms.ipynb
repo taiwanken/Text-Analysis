{
 "cells": [
  {
   "cell_type": "code",
   "execution_count": null,
   "id": "e2ebc883",
   "metadata": {},
   "outputs": [],
   "source": [
    "# this was used to create what would become Fig 2 in the assignment\n",
    "\n",
    "import pandas as pd\n",
    "import numpy as np\n",
    "import matplotlib.pyplot as plt\n",
    "\n",
    "df1 = pd.read_excel(\"\", sheet_name='LKY') # put in sentence lengths in excel format\n",
    "df2 = pd.read_excel(\"\", sheet_name='LHL')\n",
    "df3 = pd.read_excel(\"\", sheet_name='Everyone Else')\n",
    "\n",
    "plt.figure(figsize=(10, 7))\n",
    "\n",
    "max_value = max(df1.iloc[:, 0].max(), df2.iloc[:, 0].max(), df3.iloc[:, 0].max())\n",
    "bins = np.linspace(0, max_value, 99)\n",
    "\n",
    "# plot normalised histograms\n",
    "plt.hist(df1.iloc[:, 0], bins=bins, weights=df1.iloc[:, 1] / df1.iloc[:, 1].sum(), color='red', label='Lee Kuan Yew', alpha=0.5, edgecolor='black')\n",
    "plt.hist(df2.iloc[:, 0], bins=bins, weights=df2.iloc[:, 1] / df2.iloc[:, 1].sum(), color='blue', label='Lee Hsien Loong', alpha=0.5, edgecolor='black')\n",
    "plt.hist(df3.iloc[:, 0], bins=bins, weights=df3.iloc[:, 1] / df3.iloc[:, 1].sum(), color='green', label='Remaining Cabinet', alpha=0.5, edgecolor='black')\n",
    "\n",
    "plt.xlabel('Number of Words per Sentence')\n",
    "plt.ylabel('Normalised Frequency')\n",
    "plt.legend()\n",
    "\n",
    "plt.tight_layout()\n",
    "plt.show()\n"
   ]
  }
 ],
 "metadata": {
  "kernelspec": {
   "display_name": "Python 3 (ipykernel)",
   "language": "python",
   "name": "python3"
  },
  "language_info": {
   "codemirror_mode": {
    "name": "ipython",
    "version": 3
   },
   "file_extension": ".py",
   "mimetype": "text/x-python",
   "name": "python",
   "nbconvert_exporter": "python",
   "pygments_lexer": "ipython3",
   "version": "3.11.5"
  }
 },
 "nbformat": 4,
 "nbformat_minor": 5
}
