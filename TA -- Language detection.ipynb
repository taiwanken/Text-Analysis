{
 "cells": [
  {
   "cell_type": "code",
   "execution_count": null,
   "id": "fb5dc7cd",
   "metadata": {},
   "outputs": [],
   "source": [
    "# this was created to filter out all speeches which were not primarily in English using langid\n",
    "\n",
    "import os\n",
    "import fitz\n",
    "import pandas as pd\n",
    "import langid\n",
    "\n",
    "def is_english_document(pdf_path, threshold=0.95):\n",
    "    pdf_document = fitz.open(pdf_path)\n",
    "    total_pages = len(pdf_document)\n",
    "\n",
    "    english_pages = 0\n",
    "    for page_num in range(total_pages):\n",
    "        page = pdf_document[page_num]\n",
    "        text = page.get_text()\n",
    "        if text:\n",
    "            lang, _ = langid.classify(text)\n",
    "            if lang == 'en':\n",
    "                english_pages += 1\n",
    "\n",
    "    pdf_document.close()\n",
    "\n",
    "    if total_pages == 0:\n",
    "        return False\n",
    "    return english_pages / total_pages >= threshold\n",
    "\n",
    "pdf_folder = # input folder\n",
    "\n",
    "pdf_files = []\n",
    "english_status = []\n",
    "\n",
    "for filename in os.listdir(pdf_folder):\n",
    "    if filename.endswith('.pdf'):\n",
    "        pdf_path = os.path.join(pdf_folder, filename)\n",
    "        is_english = is_english_document(pdf_path, threshold=0.95)\n",
    "        pdf_files.append(filename)\n",
    "        english_status.append(\"English\" if is_english else \"Not English\")\n",
    "\n",
    "data = {'PDF File': pdf_files, 'Status': english_status}\n",
    "df = pd.DataFrame(data)\n",
    "\n",
    "output_csv_path = # output file\n",
    "df.to_csv(output_csv_path, index=False)"
   ]
  }
 ],
 "metadata": {
  "kernelspec": {
   "display_name": "Python 3 (ipykernel)",
   "language": "python",
   "name": "python3"
  },
  "language_info": {
   "codemirror_mode": {
    "name": "ipython",
    "version": 3
   },
   "file_extension": ".py",
   "mimetype": "text/x-python",
   "name": "python",
   "nbconvert_exporter": "python",
   "pygments_lexer": "ipython3",
   "version": "3.11.5"
  }
 },
 "nbformat": 4,
 "nbformat_minor": 5
}
