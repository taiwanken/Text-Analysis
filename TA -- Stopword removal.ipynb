{
 "cells": [
  {
   "cell_type": "code",
   "execution_count": null,
   "id": "1f12d855",
   "metadata": {},
   "outputs": [],
   "source": [
    "# for this process, https://github.com/stopwords-iso/stopwords-en/blob/master/stopwords-en.txt was used as the stopwords list\n",
    "\n",
    "import os\n",
    "import re\n",
    "import shutil\n",
    "\n",
    "def remove_stopwords(text, stopwords):\n",
    "    words = text.split()\n",
    "    cleaned_words = [word for word in words if word.lower() not in stopwords]\n",
    "    cleaned_text = ' '.join(cleaned_words)\n",
    "    return cleaned_text\n",
    "\n",
    "input_directory = # input\n",
    "output_directory = # output\n",
    "\n",
    "stopwords_file_path = # stopwords path\n",
    "with open(stopwords_file_path, \"r\", encoding=\"utf-8\") as stopwords_file:\n",
    "    stopwords = set(stopwords_file.read().splitlines())\n",
    "\n",
    "# iterate through the input directory and process files\n",
    "for root, dirs, files in os.walk(input_directory):\n",
    "    for file in files:\n",
    "        if file.endswith(\".txt\"):\n",
    "            input_path = os.path.join(root, file)\n",
    "            with open(input_path, 'r', encoding='utf-8') as input_file:\n",
    "                text = input_file.read()\n",
    "\n",
    "            cleaned_text = remove_stopwords(text, stopwords)\n",
    "\n",
    "            output_subdir = os.path.join(output_directory, os.path.relpath(root, input_directory))\n",
    "            os.makedirs(output_subdir, exist_ok=True)\n",
    "\n",
    "            output_path = os.path.join(output_subdir, file)\n",
    "\n",
    "            with open(output_path, 'w', encoding='utf-8') as output_file:\n",
    "                output_file.write(cleaned_text)\n"
   ]
  }
 ],
 "metadata": {
  "kernelspec": {
   "display_name": "Python 3 (ipykernel)",
   "language": "python",
   "name": "python3"
  },
  "language_info": {
   "codemirror_mode": {
    "name": "ipython",
    "version": 3
   },
   "file_extension": ".py",
   "mimetype": "text/x-python",
   "name": "python",
   "nbconvert_exporter": "python",
   "pygments_lexer": "ipython3",
   "version": "3.11.5"
  }
 },
 "nbformat": 4,
 "nbformat_minor": 5
}
